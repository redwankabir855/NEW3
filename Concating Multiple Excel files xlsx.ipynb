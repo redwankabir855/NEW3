{
 "cells": [
  {
   "cell_type": "code",
   "execution_count": 15,
   "id": "2c3e6d7e",
   "metadata": {},
   "outputs": [
    {
     "name": "stdout",
     "output_type": "stream",
     "text": [
      "File names: ['C:/Users/redwa/Dropbox/York University/Academic/Sem 2/MBAN 6090 A  Analytics Consulting Project/Data Sets/Housing/Provincial Data Set\\\\AB Housing.xlsx', 'C:/Users/redwa/Dropbox/York University/Academic/Sem 2/MBAN 6090 A  Analytics Consulting Project/Data Sets/Housing/Provincial Data Set\\\\BC Housing.xlsx', 'C:/Users/redwa/Dropbox/York University/Academic/Sem 2/MBAN 6090 A  Analytics Consulting Project/Data Sets/Housing/Provincial Data Set\\\\NB Housing.xlsx', 'C:/Users/redwa/Dropbox/York University/Academic/Sem 2/MBAN 6090 A  Analytics Consulting Project/Data Sets/Housing/Provincial Data Set\\\\NL Housing.xlsx', 'C:/Users/redwa/Dropbox/York University/Academic/Sem 2/MBAN 6090 A  Analytics Consulting Project/Data Sets/Housing/Provincial Data Set\\\\NS Housing.xlsx', 'C:/Users/redwa/Dropbox/York University/Academic/Sem 2/MBAN 6090 A  Analytics Consulting Project/Data Sets/Housing/Provincial Data Set\\\\PE Housing.xlsx', 'C:/Users/redwa/Dropbox/York University/Academic/Sem 2/MBAN 6090 A  Analytics Consulting Project/Data Sets/Housing/Provincial Data Set\\\\SK Housing.xlsx']\n"
     ]
    },
    {
     "name": "stderr",
     "output_type": "stream",
     "text": [
      "C:\\Users\\redwa\\AppData\\Local\\Temp\\ipykernel_2104\\1031649801.py:21: FutureWarning: The frame.append method is deprecated and will be removed from pandas in a future version. Use pandas.concat instead.\n",
      "  outputxlsx = outputxlsx.append( df, ignore_index=True)\n",
      "C:\\Users\\redwa\\AppData\\Local\\Temp\\ipykernel_2104\\1031649801.py:21: FutureWarning: The frame.append method is deprecated and will be removed from pandas in a future version. Use pandas.concat instead.\n",
      "  outputxlsx = outputxlsx.append( df, ignore_index=True)\n",
      "C:\\Users\\redwa\\AppData\\Local\\Temp\\ipykernel_2104\\1031649801.py:21: FutureWarning: The frame.append method is deprecated and will be removed from pandas in a future version. Use pandas.concat instead.\n",
      "  outputxlsx = outputxlsx.append( df, ignore_index=True)\n",
      "C:\\Users\\redwa\\AppData\\Local\\Temp\\ipykernel_2104\\1031649801.py:21: FutureWarning: The frame.append method is deprecated and will be removed from pandas in a future version. Use pandas.concat instead.\n",
      "  outputxlsx = outputxlsx.append( df, ignore_index=True)\n",
      "C:\\Users\\redwa\\AppData\\Local\\Temp\\ipykernel_2104\\1031649801.py:21: FutureWarning: The frame.append method is deprecated and will be removed from pandas in a future version. Use pandas.concat instead.\n",
      "  outputxlsx = outputxlsx.append( df, ignore_index=True)\n",
      "C:\\Users\\redwa\\AppData\\Local\\Temp\\ipykernel_2104\\1031649801.py:21: FutureWarning: The frame.append method is deprecated and will be removed from pandas in a future version. Use pandas.concat instead.\n",
      "  outputxlsx = outputxlsx.append( df, ignore_index=True)\n",
      "C:\\Users\\redwa\\AppData\\Local\\Temp\\ipykernel_2104\\1031649801.py:21: FutureWarning: The frame.append method is deprecated and will be removed from pandas in a future version. Use pandas.concat instead.\n",
      "  outputxlsx = outputxlsx.append( df, ignore_index=True)\n"
     ]
    },
    {
     "name": "stdout",
     "output_type": "stream",
     "text": [
      "Final Excel sheet now generated at the same location:\n"
     ]
    }
   ],
   "source": [
    "import pandas as pd\n",
    "import glob\n",
    "\n",
    "# getting excel files to be merged from the Desktop \n",
    "path = \"C:/Users/redwa/Dropbox/York University/Academic/Sem 2/MBAN 6090 A  Analytics Consulting Project/Data Sets/Housing/Provincial Data Set\"\n",
    "\n",
    "# read all the files with extension .xlsx i.e. excel \n",
    "filenames = glob.glob(path + \"\\*.xlsx\")\n",
    "print('File names:', filenames)\n",
    "\n",
    "# empty data frame for the new output excel file with the merged excel files\n",
    "outputxlsx = pd.DataFrame()\n",
    "\n",
    "# for loop to iterate all excel files\n",
    "for file in filenames:\n",
    "# using concat for excel files\n",
    "# after reading them with read_excel()\n",
    "   df = pd.concat(pd.read_excel( file, sheet_name=None), ignore_index=True, sort=False)\n",
    "\n",
    "# appending data of excel files\n",
    "   outputxlsx = outputxlsx.append( df, ignore_index=True)\n",
    "\n",
    "print('Final Excel sheet now generated at the same location:')\n",
    "outputxlsx.to_excel(\"C:/Users/redwa/Dropbox/York University/Academic/Sem 2/MBAN 6090 A  Analytics Consulting Project/Data Sets/Housing/Provincial Data Set/Output.xlsx\", index=False)"
   ]
  },
  {
   "cell_type": "code",
   "execution_count": 19,
   "id": "7e85d3ab",
   "metadata": {},
   "outputs": [],
   "source": [
    "a= pd.read_csv('Housing 1.csv')"
   ]
  },
  {
   "cell_type": "code",
   "execution_count": 21,
   "id": "36eae1e5",
   "metadata": {},
   "outputs": [],
   "source": [
    "a[['Street', 'City', 'Province', 'Postal Code']] = a['Address'].str.split(',', expand=True)"
   ]
  },
  {
   "cell_type": "code",
   "execution_count": null,
   "id": "ea4f15c3",
   "metadata": {},
   "outputs": [],
   "source": []
  }
 ],
 "metadata": {
  "kernelspec": {
   "display_name": "Python 3 (ipykernel)",
   "language": "python",
   "name": "python3"
  },
  "language_info": {
   "codemirror_mode": {
    "name": "ipython",
    "version": 3
   },
   "file_extension": ".py",
   "mimetype": "text/x-python",
   "name": "python",
   "nbconvert_exporter": "python",
   "pygments_lexer": "ipython3",
   "version": "3.9.12"
  }
 },
 "nbformat": 4,
 "nbformat_minor": 5
}
